{
  "cells": [
    {
      "cell_type": "code",
      "execution_count": 48,
      "metadata": {},
      "outputs": [
        {
          "name": "stdout",
          "output_type": "stream",
          "text": [
            "Requirement already satisfied: pip in c:\\users\\jenil\\appdata\\local\\programs\\python\\python39\\lib\\site-packages (24.2)\n",
            "Note: you may need to restart the kernel to use updated packages.\n"
          ]
        }
      ],
      "source": [
        "%pip install --upgrade pip"
      ]
    },
    {
      "cell_type": "markdown",
      "metadata": {},
      "source": [
        "# 1 How many multiplications and additions do you need to perform a matrix multiplication between a (n, k) and (k, m) matrix? Explain.\n",
        "\n",
        "-> For Multiplications:\n",
        "Let A and B be the two matrix that needs to be Multiplied and their dimensions are NxK and KxM Respectively.\n",
        "Now, we take each all elements from row(K) of A and all elements from column(K) of B; and multiply them For N*M times.\n",
        "Therefore,\n",
        "Number of multiplications required = N*M*K\n",
        "\n",
        "-> For Additions:\n",
        "We similarly have matrices A and B.\n",
        "Now to calculate number of Additions, we know that we do addition of those multiplied K terms; so we perform (K-1) additions.\n",
        "Hence, \n",
        "Number of addition required = N*M*(K-1)"
      ]
    },
    {
      "cell_type": "raw",
      "metadata": {},
      "source": [
        "\n",
        "\n",
        "\n"
      ]
    },
    {
      "cell_type": "markdown",
      "metadata": {},
      "source": [
        "# 2 Write Python code to multiply the above two matrices. Solve using list of lists and then use numpy. Compare the timing of both solutions. Which one is faster? Why?"
      ]
    },
    {
      "cell_type": "code",
      "execution_count": 49,
      "metadata": {
        "scrolled": true,
        "trusted": true
      },
      "outputs": [
        {
          "name": "stdout",
          "output_type": "stream",
          "text": [
            "Time taken for list of lists multiplication method= 0.348813 seconds\n",
            "Time taken for NumPy multiplication= 0.003001 seconds\n"
          ]
        }
      ],
      "source": [
        "\n",
        "import time\n",
        "import random\n",
        "import numpy as np\n",
        "\n",
        "# Function to multiply two matrices using list of lists Method.\n",
        "def matrix_multiply_list(A, B):  # Assuming A and B has DImension NxK and KxM respectively\n",
        "    n = len(A)     \n",
        "    k = len(A[0])\n",
        "    m = len(B[0])\n",
        "    \n",
        "    # Result Matrix stored in C.\n",
        "    C = [[0 for _ in range(m)] for _ in range(n)]\n",
        "    \n",
        "    # Perform matrix multiplication\n",
        "    for i in range(n):\n",
        "        for j in range(m):\n",
        "            for l in range(k):\n",
        "                C[i][j] += A[i][l] * B[l][j]\n",
        "                \n",
        "    return C\n",
        "\n",
        "# Function to multiply two matrices using numpy Method.\n",
        "def matrix_multiply_numpy(A, B):\n",
        "    C_np = np.dot(A, B)\n",
        "    return\n",
        "    \n",
        "\n",
        "# Main Exexution~\n",
        "\n",
        "n, k, m = 120, 200, 160   # Here, A[n, k] and B[k, m]\n",
        "A = [[random.random() for _ in range(k)] for _ in range(n)]\n",
        "B = [[random.random() for _ in range(m)] for _ in range(k)]\n",
        "\n",
        "\n",
        "# For list of lists Method\n",
        "start_time = time.time()\n",
        "C_list = matrix_multiply_list(A, B)\n",
        "end_time = time.time()\n",
        "list_time = end_time - start_time\n",
        "print(f\"Time taken for list of lists multiplication method= {list_time:.6f} seconds\")\n",
        "\n",
        "\n",
        "# For numpy Method\n",
        "start_time = time.time()\n",
        "C_np = matrix_multiply_numpy(A, B)\n",
        "end_time = time.time()\n",
        "numpy_time = end_time - start_time\n",
        "print(f\"Time taken for NumPy multiplication= {numpy_time:.6f} seconds\")\n"
      ]
    },
    {
      "cell_type": "markdown",
      "metadata": {},
      "source": [
        "# Reason\n",
        "=> List of Lists method is always slower because NumPy is arkitectured to perform operation on entire array at once using SIMD (Single Instruction, \n",
        "   Multiple Data instruction),  wherea for list done one element at a time."
      ]
    },
    {
      "cell_type": "raw",
      "metadata": {},
      "source": [
        "\n",
        "\n",
        "\n"
      ]
    },
    {
      "cell_type": "markdown",
      "metadata": {},
      "source": [
        "# 3 Finding the highest element in a list requires one pass of the array. Finding the second highest element requires 2 passes of the the array. Using this method, what is the time complexity of finding the median of the array? Can you suggest a better method? Can you implement both these methods in Python and compare against numpy.median routine in terms of time?\n",
        "\n",
        "-> Calculating Time Complexity for Reapeted find max method to find Median:\n",
        "we know that Finding 1st Highest element requires to check of every element N, Hence it takes - O(N)\n",
        "\n",
        "Now, for 2nd Highest we will require last search and (n-1) search on the array. Therefore, it takes N + (N-1) passes\n",
        "which is, O(N + N -1) = O(2N - 1) = O(N)\n",
        "\n",
        "To find median Kth (which is n/2th term) element we will require,\n",
        "Sum of passes from 1 to ceil of n/2th terms = (n/2)(n/2 + 1)/2 = (n^2 + n + 2)/8\n",
        "Hence, O((n^2 + n + 2)/8) = O(N^2/8) = O(N^2).\n",
        "\n",
        "\n",
        "-> Better method can be QuickSelect algorithm (similar to QuickSort),\n",
        "It takes O(N) as average time complexity, still having worst case at O(N^2)"
      ]
    },
    {
      "cell_type": "code",
      "execution_count": 50,
      "metadata": {
        "trusted": true
      },
      "outputs": [
        {
          "name": "stdout",
          "output_type": "stream",
          "text": [
            "Median (repeated passes method)= 0.487957194167894\n",
            "Time taken for repeated passes method: 0.034998 seconds \n",
            "\n",
            "Median (Quickselect method)= 0.487957194167894\n",
            "Time taken for Quickselect method: 0.001004 seconds \n",
            "\n",
            "Median (NumPy): 0.487957194167894\n",
            "Time taken for NumPy median: 0.000998 seconds\n"
          ]
        }
      ],
      "source": [
        "\n",
        "import time\n",
        "import random\n",
        "import numpy as np\n",
        "\n",
        "\n",
        "## REAPEATED PASSES METHOD\n",
        "# utility to find kth largest element\n",
        "def find_kth_largest_element(arr, k):\n",
        "    for _ in range(k):\n",
        "        max_elem = max(arr)\n",
        "        arr.remove(max_elem)\n",
        "    return max_elem\n",
        "\n",
        "# main function to find median in an array\n",
        "def find_median_repeated_passes(arr):\n",
        "    n = len(arr)\n",
        "    if n % 2 == 1: # if Odd\n",
        "        return find_kth_largest_element(arr.copy(), (n // 2) + 1)\n",
        "    else: # if Even\n",
        "        mid1 = find_kth_largest_element(arr.copy(), n // 2)\n",
        "        mid2 = find_kth_largest_element(arr.copy(), (n // 2) + 1)\n",
        "        return (mid1 + mid2) / 2\n",
        "\n",
        "\n",
        "\n",
        "\n",
        "## Quickselect Method\n",
        "# utility to find kth largest element\n",
        "def quickselect(arr, k):\n",
        "    if len(arr) == 1:\n",
        "        return arr[0]\n",
        "\n",
        "    pivot = random.choice(arr)\n",
        "    lows = [el for el in arr if el < pivot]\n",
        "    highs = [el for el in arr if el > pivot]\n",
        "    pivots = [el for el in arr if el == pivot]\n",
        "\n",
        "    if k < len(lows):\n",
        "        return quickselect(lows, k)\n",
        "    elif k < len(lows) + len(pivots):\n",
        "        return pivots[0]\n",
        "    else:\n",
        "        return quickselect(highs, k - len(lows) - len(pivots))\n",
        "\n",
        "\n",
        "def find_median_quickselect(arr):\n",
        "    n = len(arr)\n",
        "    if n % 2 == 1:\n",
        "        return quickselect(arr, n // 2)\n",
        "    else:\n",
        "        mid1 = quickselect(arr, n // 2 - 1)\n",
        "        mid2 = quickselect(arr, n // 2)\n",
        "        return (mid1 + mid2) / 2\n",
        "\n",
        "\n",
        "\n",
        "\n",
        "\n",
        "\n",
        "## MAIN EXECUTION~\n",
        "\n",
        "arr = [random.random() for _ in range(2000)]\n",
        "\n",
        "start_time = time.time()\n",
        "median_repeated_passes = find_median_repeated_passes(arr)\n",
        "end_time = time.time()\n",
        "repeated_passes_time = end_time - start_time\n",
        "print(f\"Median (repeated passes method)= {median_repeated_passes}\")\n",
        "print(f\"Time taken for repeated passes method: {repeated_passes_time:.6f} seconds \\n\")\n",
        "\n",
        "\n",
        "start_time = time.time()\n",
        "median_quickselect = find_median_quickselect(arr)\n",
        "end_time = time.time()\n",
        "quickselect_time = end_time - start_time\n",
        "print(f\"Median (Quickselect method)= {median_quickselect}\")\n",
        "print(f\"Time taken for Quickselect method: {quickselect_time:.6f} seconds \\n\")\n",
        "\n",
        "\n",
        "## NumPy median Method\n",
        "start_time = time.time()\n",
        "median_numpy = np.median(arr)\n",
        "end_time = time.time()\n",
        "numpy_time = end_time - start_time\n",
        "print(f\"Median (NumPy): {median_numpy}\")\n",
        "print(f\"Time taken for NumPy median: {numpy_time:.6f} seconds\")\n",
        "\n"
      ]
    },
    {
      "cell_type": "raw",
      "metadata": {},
      "source": [
        "\n",
        "\n",
        "\n"
      ]
    },
    {
      "cell_type": "markdown",
      "metadata": {},
      "source": [
        "# 4 What is the gradient of the following function with respect to x and y?\n",
        "#    x^2.y + y^3.sin(x)\n",
        "\n",
        "-> To find gradient of the function with respect to x and y, we just need to perform partial derivatives with respect to each variable.\n",
        "That is for function f(x,y), gradient is ∇f = (df/dx, df/dy).\n",
        "{here, d/dx and d/dy is partial derivative notations}\n",
        "\n",
        "Let f = x^2.y + y^3.sin(x)\n",
        "\n",
        "Therefore, \n",
        " df/dx = 2xy + y^3.cos(x)\n",
        "And,\n",
        " df/dy = x^2 + 3y^2.sin(x)\n",
        "\n",
        "\n",
        "Hence, \n",
        "    ∇f = (x^2.y + y^3.sin(x), x^2 + 3y^2.sin(x))"
      ]
    },
    {
      "cell_type": "raw",
      "metadata": {},
      "source": [
        "\n",
        "\n",
        "\n"
      ]
    },
    {
      "cell_type": "markdown",
      "metadata": {},
      "source": [
        "# 5 Use JAX to confirm the gradient evaluated by your method matches the analytical solution corresponding to a few random values of x and y\n",
        "\n"
      ]
    },
    {
      "cell_type": "code",
      "execution_count": 51,
      "metadata": {
        "scrolled": true,
        "trusted": true
      },
      "outputs": [],
      "source": [
        "# %pip install jax jaxlib"
      ]
    },
    {
      "cell_type": "code",
      "execution_count": 52,
      "metadata": {
        "trusted": true
      },
      "outputs": [
        {
          "name": "stdout",
          "output_type": "stream",
          "text": [
            "x = 0.5, y = 2.0\n",
            "JAX Gradient: (Array(9.02066, dtype=float32, weak_type=True), Array(6.0031066, dtype=float32, weak_type=True))\n",
            "Analytical Gradient: (Array(9.02066, dtype=float32, weak_type=True), Array(6.0031066, dtype=float32, weak_type=True)) \n",
            "\n",
            "x = 1.0, y = 1.5\n",
            "JAX Gradient: (Array(4.82352, dtype=float32, weak_type=True), Array(6.679929, dtype=float32, weak_type=True))\n",
            "Analytical Gradient: (Array(4.82352, dtype=float32, weak_type=True), Array(6.679929, dtype=float32, weak_type=True)) \n",
            "\n",
            "x = -1.0, y = -0.5\n",
            "JAX Gradient: (Array(0.9324622, dtype=float32, weak_type=True), Array(0.36889678, dtype=float32, weak_type=True))\n",
            "Analytical Gradient: (Array(0.9324622, dtype=float32, weak_type=True), Array(0.36889678, dtype=float32, weak_type=True)) \n",
            "\n"
          ]
        }
      ],
      "source": [
        "# Install JAX if not already installed\n",
        "# %pip install jax jaxlib\n",
        "\n",
        "import jax.numpy as jnp\n",
        "from jax import grad\n",
        "\n",
        "\n",
        "# Define the given function \n",
        "def f(x, y):\n",
        "    return x**2 * y + y**3 * jnp.sin(x)\n",
        "\n",
        "\n",
        "# Compute the gradient using JAX library\n",
        "grad_f = grad(f, (0, 1))\n",
        "\n",
        "\n",
        "# Analytical gradients\n",
        "def analytical_gradient(x, y):\n",
        "    df_dx = 2*x*y + y**3 * jnp.cos(x)\n",
        "    df_dy = x**2 + 3*y**2 * jnp.sin(x)\n",
        "    return df_dx, df_dy\n",
        "\n",
        "\n",
        "\n",
        "# Test the gradients at a few random values\n",
        "x_values = [0.5, 1.0, -1.0]\n",
        "y_values = [2.0, 1.5, -0.5]\n",
        "\n",
        "for x, y in zip(x_values, y_values):\n",
        "    jax_grad = grad_f(x, y)\n",
        "    analytical = analytical_gradient(x, y)\n",
        "    print(f\"x = {x}, y = {y}\")\n",
        "    print(f\"JAX Gradient: {jax_grad}\")\n",
        "    print(f\"Analytical Gradient: {analytical} \\n\")\n"
      ]
    },
    {
      "cell_type": "raw",
      "metadata": {},
      "source": [
        "\n",
        "\n",
        "\n"
      ]
    },
    {
      "cell_type": "markdown",
      "metadata": {},
      "source": [
        "# 6 Use sympy to confirm that you obtain the same gradient analytically."
      ]
    },
    {
      "cell_type": "code",
      "execution_count": 53,
      "metadata": {
        "trusted": true
      },
      "outputs": [],
      "source": [
        "# %pip install sympy"
      ]
    },
    {
      "cell_type": "code",
      "execution_count": 54,
      "metadata": {
        "trusted": true
      },
      "outputs": [
        {
          "data": {
            "text/plain": [
              "(2*x*y + y**3*cos(x), x**2 + 3*y**2*sin(x))"
            ]
          },
          "execution_count": 54,
          "metadata": {},
          "output_type": "execute_result"
        }
      ],
      "source": [
        "import sympy as sp\n",
        "\n",
        "# Defining the symbolic variables\n",
        "x, y = sp.symbols('x y')\n",
        "\n",
        "# The given function\n",
        "f = x**2 * y + y**3 * sp.sin(x)\n",
        "\n",
        "# Compute the partial derivatives\n",
        "df_dx = sp.diff(f, x)\n",
        "df_dy = sp.diff(f, y)\n",
        "\n",
        "# Display the gradients\n",
        "df_dx, df_dy"
      ]
    },
    {
      "cell_type": "raw",
      "metadata": {},
      "source": [
        "\n",
        "\n",
        "\n"
      ]
    },
    {
      "cell_type": "markdown",
      "metadata": {},
      "source": [
        "# 7 Create a Python nested dictionary to represent hierarchical information. We want to store record of students and their marks. Something like:\n",
        "\n",
        "2022\n",
        "    Branch 1\n",
        "        Roll Number: 1, Name: N, Marks:\n",
        "            Maths: 100, English: 70 …\n",
        "    Branch 2\n",
        "\n",
        "2023\n",
        "    Branch 1\n",
        "    Branch 2\n",
        "\n",
        "2024\n",
        "    Branch 1\n",
        "    Branch 2\n",
        "\n",
        "2025\n",
        "    Branch 1\n",
        "    Branch 2"
      ]
    },
    {
      "cell_type": "code",
      "execution_count": 55,
      "metadata": {
        "trusted": true
      },
      "outputs": [
        {
          "name": "stdout",
          "output_type": "stream",
          "text": [
            "95\n",
            "{2022: {'Branch 1': {1: {'Name': 'Alice', 'Marks': {'Maths': 95, 'English': 88, 'Science': 92}}, 2: {'Name': 'Bob', 'Marks': {'Maths': 85, 'English': 79, 'Science': 80}}}, 'Branch 2': {1: {'Name': 'Charlie', 'Marks': {'Maths': 90, 'English': 85, 'Science': 88}}}}}\n"
          ]
        }
      ],
      "source": [
        "# Function to add student records in the given order\n",
        "def add_student_record(student_records, year, branch, roll_number, name, marks):\n",
        "    if year not in student_records:\n",
        "        student_records[year] = {}\n",
        "    if branch not in student_records[year]:\n",
        "        student_records[year][branch] = {}\n",
        "    student_records[year][branch][roll_number] = {\n",
        "        \"Name\": name,\n",
        "        \"Marks\": marks\n",
        "    }\n",
        "\n",
        "\n",
        "# Initialize an empty dictionary for student records\n",
        "student_records = {}\n",
        "\n",
        "# Example data entry\n",
        "add_student_record(student_records, 2022, \"Branch 1\", 1, \"Alice\", {\"Maths\": 95, \"English\": 88, \"Science\": 92})\n",
        "add_student_record(student_records, 2022, \"Branch 1\", 2, \"Bob\", {\"Maths\": 85, \"English\": 79, \"Science\": 80})\n",
        "add_student_record(student_records, 2022, \"Branch 2\", 1, \"Charlie\", {\"Maths\": 90, \"English\": 85, \"Science\": 88})\n",
        "\n",
        "# Print inidividual record\n",
        "print(student_records[2022][\"Branch 1\"][1][\"Marks\"][\"Maths\"])\n",
        "\n",
        "# Print the All student records dictionary\n",
        "print(student_records)"
      ]
    },
    {
      "cell_type": "raw",
      "metadata": {},
      "source": [
        "\n",
        "\n",
        "\n"
      ]
    },
    {
      "cell_type": "markdown",
      "metadata": {},
      "source": [
        "# 8 Store the same information using Python classes. We have an overall database which is a list of year objects. Each year contains a list of branches. Each branch contains a list of students. Each student has some properties like name, roll number and has marks in some subjects."
      ]
    },
    {
      "cell_type": "code",
      "execution_count": 56,
      "metadata": {
        "trusted": true
      },
      "outputs": [
        {
          "name": "stdout",
          "output_type": "stream",
          "text": [
            "Database(years=[Year(year=2022, branches=[Branch(branch_name='Branch 1', students=[Student(roll_number=1, name='Alice', marks={'Maths': 95, 'English': 88, 'Science': 92}), Student(roll_number=2, name='Bob', marks={'Maths': 85, 'English': 79, 'Science': 80})]), Branch(branch_name='Branch 2', students=[])]), Year(year=2023, branches=[])])\n"
          ]
        }
      ],
      "source": [
        "# Student{ RollNumber, Name, Marks{} }\n",
        "# Branch { BranchName, Student[] }\n",
        "# Year { Branch[] }\n",
        "# Database { Year[] }\n",
        "\n",
        "\n",
        "class Student:\n",
        "    def __init__(self, roll_number, name, marks):\n",
        "        self.roll_number = roll_number\n",
        "        self.name = name\n",
        "        self.marks = marks  # marks is a dictionary with subject names as keys and marks as values\n",
        "\n",
        "    def __repr__(self):\n",
        "        return f\"Student(roll_number={self.roll_number}, name='{self.name}', marks={self.marks})\"\n",
        "\n",
        "\n",
        "class Branch:\n",
        "    def __init__(self, branch_name):\n",
        "        self.branch_name = branch_name\n",
        "        self.students = []\n",
        "\n",
        "    def add_student(self, student):\n",
        "        self.students.append(student)\n",
        "\n",
        "    def __repr__(self):\n",
        "        return f\"Branch(branch_name='{self.branch_name}', students={self.students})\"\n",
        "\n",
        "\n",
        "class Year:\n",
        "    def __init__(self, year):\n",
        "        self.year = year\n",
        "        self.branches = []\n",
        "\n",
        "    def add_branch(self, branch):\n",
        "        self.branches.append(branch)\n",
        "\n",
        "    def __repr__(self):\n",
        "        return f\"Year(year={self.year}, branches={self.branches})\"\n",
        "\n",
        "\n",
        "class Database:\n",
        "    def __init__(self):\n",
        "        self.years = []\n",
        "\n",
        "    def add_year(self, year):\n",
        "        self.years.append(year)\n",
        "\n",
        "    def __repr__(self):\n",
        "        return f\"Database(years={self.years})\"\n",
        "\n",
        "\n",
        "\n",
        "# Execution~\n",
        "database = Database()\n",
        "\n",
        "\n",
        "# Creating years \n",
        "year_2022 = Year(2022)\n",
        "year_2023 = Year(2023)\n",
        "\n",
        "\n",
        "# Create branches for 2022\n",
        "branch_1_2022 = Branch(\"Branch 1\")\n",
        "branch_2_2022 = Branch(\"Branch 2\")\n",
        "# Create students for 2022\n",
        "student_1 = Student(1, \"Alice\", {\"Maths\": 95, \"English\": 88, \"Science\": 92})\n",
        "student_2 = Student(2, \"Bob\", {\"Maths\": 85, \"English\": 79, \"Science\": 80})\n",
        "\n",
        "\n",
        "# Add students to branches\n",
        "branch_1_2022.add_student(student_1)\n",
        "branch_1_2022.add_student(student_2)\n",
        "# Add branches to years\n",
        "year_2022.add_branch(branch_1_2022)\n",
        "year_2022.add_branch(branch_2_2022)\n",
        "\n",
        "\n",
        "# Add years to database\n",
        "database.add_year(year_2022)\n",
        "database.add_year(year_2023)\n",
        "\n",
        "\n",
        "# Printing the entire database\n",
        "print(database)"
      ]
    },
    {
      "cell_type": "raw",
      "metadata": {},
      "source": [
        "\n",
        "\n",
        "\n"
      ]
    },
    {
      "cell_type": "markdown",
      "metadata": {},
      "source": [
        "# 9 Using matplotlib plot the following functions on the domain: x = 0.5 to 100.0 in steps of 0.5.\n",
        "y = x\n",
        "y = x^2\n",
        "y = x^3/100\n",
        "y = sin(x)\n",
        "y = sin(x)/x\n",
        "y = log(x)\n",
        "y = e^x"
      ]
    },
    {
      "cell_type": "code",
      "execution_count": 57,
      "metadata": {},
      "outputs": [],
      "source": [
        "# %pip install matplotlib"
      ]
    },
    {
      "cell_type": "code",
      "execution_count": 58,
      "metadata": {
        "trusted": true
      },
      "outputs": [
        {
          "data": {
            "image/png": "[encoded data removed]",
            "text/plain": [
              "<Figure size 1600x1000 with 7 Axes>"
            ]
          },
          "metadata": {},
          "output_type": "display_data"
        }
      ],
      "source": [
        "import numpy as np\n",
        "import matplotlib.pyplot as plt\n",
        "\n",
        "# Define the domain\n",
        "x = np.arange(0.5, 100.0, 0.5)\n",
        "\n",
        "# Define the functions\n",
        "y1 = x\n",
        "y2 = x**2\n",
        "y3 = (x**3) / 100\n",
        "y4 = np.sin(x)\n",
        "y5 = np.sin(x) / x\n",
        "y6 = np.log(x)\n",
        "y7 = np.exp(x)\n",
        "\n",
        "# Create a plot\n",
        "plt.figure(figsize=(16, 10))\n",
        "\n",
        "# Plot each function\n",
        "plt.subplot(3, 3, 1)\n",
        "plt.plot(x, y1, label=r'$y = x$')\n",
        "plt.title(r'$y = x$')\n",
        "plt.xlabel('x')\n",
        "plt.ylabel('y')\n",
        "plt.grid(True)\n",
        "plt.legend()\n",
        "\n",
        "plt.subplot(3, 3, 2)\n",
        "plt.plot(x, y2, label=r'$y = x^2$', color='orange')\n",
        "plt.title(r'$y = x^2$')\n",
        "plt.xlabel('x')\n",
        "plt.ylabel('y')\n",
        "plt.grid(True)\n",
        "plt.legend()\n",
        "\n",
        "plt.subplot(3, 3, 3)\n",
        "plt.plot(x, y3, label=r'$y = x^3/100$', color='green')\n",
        "plt.title(r'$y = x^3/100$')\n",
        "plt.xlabel('x')\n",
        "plt.ylabel('y')\n",
        "plt.grid(True)\n",
        "plt.legend()\n",
        "\n",
        "plt.subplot(3, 3, 4)\n",
        "plt.plot(x, y4, label=r'$y = \\sin(x)$', color='red')\n",
        "plt.title(r'$y = \\sin(x)$')\n",
        "plt.xlabel('x')\n",
        "plt.ylabel('y')\n",
        "plt.grid(True)\n",
        "plt.legend()\n",
        "\n",
        "plt.subplot(3, 3, 5)\n",
        "plt.plot(x, y5, label=r'$y = \\frac{\\sin(x)}{x}$', color='purple')\n",
        "plt.title(r'$y = \\frac{\\sin(x)}{x}$')\n",
        "plt.xlabel('x')\n",
        "plt.ylabel('y')\n",
        "plt.grid(True)\n",
        "plt.legend()\n",
        "\n",
        "plt.subplot(3, 3, 6)\n",
        "plt.plot(x, y6, label=r'$y = \\log(x)$', color='brown')\n",
        "plt.title(r'$y = \\log(x)$')\n",
        "plt.xlabel('x')\n",
        "plt.ylabel('y')\n",
        "plt.grid(True)\n",
        "plt.legend()\n",
        "\n",
        "plt.subplot(3, 3, 7)\n",
        "plt.plot(x, y7, label=r'$y = e^x$', color='pink')\n",
        "plt.title(r'$y = e^x$')\n",
        "plt.xlabel('x')\n",
        "plt.ylabel('y')\n",
        "plt.grid(True)\n",
        "plt.legend()\n",
        "\n",
        "plt.tight_layout()\n",
        "\n",
        "# Show the plot\n",
        "plt.show()\n"
      ]
    },
    {
      "cell_type": "raw",
      "metadata": {},
      "source": [
        "\n",
        "\n",
        "\n"
      ]
    },
    {
      "cell_type": "markdown",
      "metadata": {},
      "source": [
        "# 10 Using numpy generate a matrix of size 20X5 containing random numbers drawn uniformly from the range of 1 to 2. Using Pandas create a dataframe out of this matrix. Name the columns of the dataframe as “a”, “b”, “c”, “d”, “e”. Find the column with the highest standard deviation. Find the row with the lowest mean."
      ]
    },
    {
      "cell_type": "code",
      "execution_count": 59,
      "metadata": {},
      "outputs": [],
      "source": [
        "# %pip install pandas"
      ]
    },
    {
      "cell_type": "code",
      "execution_count": 60,
      "metadata": {
        "trusted": true
      },
      "outputs": [
        {
          "name": "stdout",
          "output_type": "stream",
          "text": [
            "DataFrame:\n",
            "           a         b         c         d         e\n",
            "0   1.813888  1.837791  1.349341  1.952961  1.524456\n",
            "1   1.098146  1.157935  1.265270  1.758485  1.044301\n",
            "2   1.631491  1.791265  1.699632  1.241012  1.011711\n",
            "3   1.792926  1.839330  1.205441  1.949663  1.733934\n",
            "4   1.928879  1.464340  1.864695  1.368496  1.375749\n",
            "5   1.358083  1.165916  1.862644  1.002204  1.104821\n",
            "6   1.335809  1.490454  1.078750  1.173515  1.478875\n",
            "7   1.873659  1.965456  1.157313  1.885727  1.504885\n",
            "8   1.792083  1.942503  1.552857  1.954292  1.026573\n",
            "9   1.798679  1.140823  1.869996  1.456306  1.579041\n",
            "10  1.871766  1.288259  1.332363  1.996410  1.059288\n",
            "11  1.391282  1.147452  1.241977  1.387758  1.819493\n",
            "12  1.788107  1.997945  1.146194  1.838156  1.904397\n",
            "13  1.480503  1.751516  1.113008  1.062093  1.807540\n",
            "14  1.033871  1.769331  1.612622  1.763039  1.328546\n",
            "15  1.126104  1.427148  1.060450  1.516692  1.122085\n",
            "16  1.010339  1.551289  1.502894  1.857040  1.169158\n",
            "17  1.985601  1.318966  1.117133  1.724394  1.171762\n",
            "18  1.689736  1.899576  1.366174  1.212710  1.372366\n",
            "19  1.214969  1.199925  1.704969  1.480346  1.532211\n",
            "\n",
            "Column with the highest standard deviation: d\n",
            "Row with the lowest mean: 15\n"
          ]
        }
      ],
      "source": [
        "import numpy as np\n",
        "import pandas as pd\n",
        "\n",
        "# Generate a matrix of size 20x5 with random numbers drawn uniformly from the range [1, 2)\n",
        "matrix = np.random.uniform(1, 2, size=(20, 5))\n",
        "\n",
        "# Create a DataFrame from the matrix\n",
        "df = pd.DataFrame(matrix, columns=[\"a\", \"b\", \"c\", \"d\", \"e\"])\n",
        "\n",
        "# Find the column with the highest standard deviation\n",
        "std_devs = df.std()\n",
        "highest_std_column = std_devs.idxmax()\n",
        "\n",
        "# Find the row with the lowest mean\n",
        "row_means = df.mean(axis=1)\n",
        "lowest_mean_row = row_means.idxmin()\n",
        "\n",
        "# Display results\n",
        "print(\"DataFrame:\")\n",
        "print(df)\n",
        "print(\"\\nColumn with the highest standard deviation:\", highest_std_column)\n",
        "print(\"Row with the lowest mean:\", lowest_mean_row)\n"
      ]
    },
    {
      "cell_type": "raw",
      "metadata": {},
      "source": [
        "\n",
        "\n",
        "\n"
      ]
    },
    {
      "cell_type": "markdown",
      "metadata": {},
      "source": [
        "# 11 Add a new column to the dataframe called “f” which is the sum of the columns “a”, “b”, “c”, “d”, “e”. Create another column called “g”. The value in the column “g” should be “LT8” if the value in the column “f” is less than 8 and “GT8” otherwise. Find the number of rows in the dataframe where the value in the column “g” is “LT8”. Find the standard deviation of the column “f” for the rows where the value in the column “g” is “LT8” and “GT8” respectively."
      ]
    },
    {
      "cell_type": "code",
      "execution_count": 61,
      "metadata": {
        "trusted": true
      },
      "outputs": [
        {
          "name": "stdout",
          "output_type": "stream",
          "text": [
            "DataFrame:\n",
            "           a         b         c         d         e         f    g\n",
            "0   1.813888  1.837791  1.349341  1.952961  1.524456  8.478437  GT8\n",
            "1   1.098146  1.157935  1.265270  1.758485  1.044301  6.324137  LT8\n",
            "2   1.631491  1.791265  1.699632  1.241012  1.011711  7.375112  LT8\n",
            "3   1.792926  1.839330  1.205441  1.949663  1.733934  8.521294  GT8\n",
            "4   1.928879  1.464340  1.864695  1.368496  1.375749  8.002159  GT8\n",
            "5   1.358083  1.165916  1.862644  1.002204  1.104821  6.493667  LT8\n",
            "6   1.335809  1.490454  1.078750  1.173515  1.478875  6.557403  LT8\n",
            "7   1.873659  1.965456  1.157313  1.885727  1.504885  8.387041  GT8\n",
            "8   1.792083  1.942503  1.552857  1.954292  1.026573  8.268308  GT8\n",
            "9   1.798679  1.140823  1.869996  1.456306  1.579041  7.844845  LT8\n",
            "10  1.871766  1.288259  1.332363  1.996410  1.059288  7.548085  LT8\n",
            "11  1.391282  1.147452  1.241977  1.387758  1.819493  6.987962  LT8\n",
            "12  1.788107  1.997945  1.146194  1.838156  1.904397  8.674799  GT8\n",
            "13  1.480503  1.751516  1.113008  1.062093  1.807540  7.214660  LT8\n",
            "14  1.033871  1.769331  1.612622  1.763039  1.328546  7.507409  LT8\n",
            "15  1.126104  1.427148  1.060450  1.516692  1.122085  6.252480  LT8\n",
            "16  1.010339  1.551289  1.502894  1.857040  1.169158  7.090720  LT8\n",
            "17  1.985601  1.318966  1.117133  1.724394  1.171762  7.317856  LT8\n",
            "18  1.689736  1.899576  1.366174  1.212710  1.372366  7.540562  LT8\n",
            "19  1.214969  1.199925  1.704969  1.480346  1.532211  7.132420  LT8\n",
            "\n",
            "Number of rows where 'g' is 'LT8': 14\n",
            "Standard deviation of 'f' where 'g' is 'LT8': 0.4995928863886556\n",
            "Standard deviation of 'f' where 'g' is 'GT8': 0.2329795420683803\n"
          ]
        }
      ],
      "source": [
        "# Add column 'f' which is the sum of columns 'a', 'b', 'c', 'd', 'e'\n",
        "df['f'] = df[['a', 'b', 'c', 'd', 'e']].sum(axis=1)\n",
        "\n",
        "# Create column 'g' based on the value of column 'f'\n",
        "df['g'] = np.where(df['f'] < 8, 'LT8', 'GT8')\n",
        "\n",
        "# Find the number of rows where column 'g' is 'LT8'\n",
        "num_LT8_rows = (df['g'] == 'LT8').sum()\n",
        "\n",
        "# Calculate the standard deviation of column 'f' for rows where 'g' is 'LT8'\n",
        "std_LT8 = df[df['g'] == 'LT8']['f'].std()\n",
        "\n",
        "# Calculate the standard deviation of column 'f' for rows where 'g' is 'GT8'\n",
        "std_GT8 = df[df['g'] == 'GT8']['f'].std()\n",
        "\n",
        "# Display results\n",
        "print(\"DataFrame:\")\n",
        "print(df)\n",
        "\n",
        "print(\"\\nNumber of rows where 'g' is 'LT8':\", num_LT8_rows)\n",
        "print(\"Standard deviation of 'f' where 'g' is 'LT8':\", std_LT8)\n",
        "print(\"Standard deviation of 'f' where 'g' is 'GT8':\", std_GT8)\n",
        "\n"
      ]
    },
    {
      "cell_type": "raw",
      "metadata": {},
      "source": [
        "\n",
        "\n",
        "\n"
      ]
    },
    {
      "cell_type": "markdown",
      "metadata": {},
      "source": [
        "# 12 Write a small piece of code to explain broadcasting in numpy.\n",
        "\n",
        "Broadcasting in NumPy describes how NumPy treats arrays with different shapes by making use of arithmetic operations. A function in NumPy which  provides a means of vectorizing array operations. It simplifies code and avoids the need for explicit looping and performs the operation directly with following some rules.\n",
        "\n",
        "\n",
        "Broadcasting rules are:\n",
        "    -If the arrays have a different number of dimensions, pad the smaller array's shape with ones on the left side.\n",
        "    -The dimensions of the two arrays are compared element-wise. They must either be the same or one of them must be 1.\n",
        "    -If these conditions are satisfied, the arrays are broadcast to a common shape."
      ]
    },
    {
      "cell_type": "code",
      "execution_count": 62,
      "metadata": {
        "trusted": true
      },
      "outputs": [
        {
          "name": "stdout",
          "output_type": "stream",
          "text": [
            "Matrix:\n",
            "[[ 1  2  3]\n",
            " [ 4  5  6]\n",
            " [ 7  8  9]\n",
            " [10 11 12]]\n",
            "\n",
            "Vector:\n",
            "[10 20 30]\n",
            "\n",
            "Result of broadcasting (Matrix + Vector):\n",
            "[[11 22 33]\n",
            " [14 25 36]\n",
            " [17 28 39]\n",
            " [20 31 42]]\n"
          ]
        }
      ],
      "source": [
        "# Demonstration:\n",
        "\n",
        "# Create some N-D array\n",
        "matrix = np.array([[1, 2, 3],\n",
        "                   [4, 5, 6],\n",
        "                   [7, 8, 9],\n",
        "                   [10, 11, 12]])\n",
        "\n",
        "# Create a 1D array\n",
        "vector = np.array([10, 20, 30])\n",
        "\n",
        "# Adding Both arrays\n",
        "result = matrix + vector\n",
        "\n",
        "print(\"Matrix:\")\n",
        "print(matrix)\n",
        "print(\"\\nVector:\")\n",
        "print(vector)\n",
        "print(\"\\nResult of broadcasting (Matrix + Vector):\")\n",
        "print(result)"
      ]
    },
    {
      "cell_type": "raw",
      "metadata": {},
      "source": [
        "\n",
        "\n",
        "\n"
      ]
    },
    {
      "cell_type": "markdown",
      "metadata": {},
      "source": [
        "# 13 Write a function to compute the argmin of a numpy array. The function should take a numpy array as input and return the index of the minimum element. You can use the np.argmin function to verify your solution."
      ]
    },
    {
      "cell_type": "code",
      "execution_count": 63,
      "metadata": {
        "trusted": true
      },
      "outputs": [
        {
          "name": "stdout",
          "output_type": "stream",
          "text": [
            "Array: [3 1 4 1 5 9 2 6 5]\n",
            "Index of minimum element (custom function): 1\n",
            "Index of minimum element (np.argmin function): 1\n"
          ]
        }
      ],
      "source": [
        "import numpy as np\n",
        "\n",
        "def cust_argmin(array):\n",
        "    \"\"\"Compute the index of the minimum element in a NumPy array.\"\"\"\n",
        "    # Check if the array is empty\n",
        "    if array.size == 0:\n",
        "        #print(\"The input array is empty!\")\n",
        "        return 0\n",
        "    \n",
        "    # Initialize index of the minimum value\n",
        "    min_index = 0\n",
        "    min_value = array[0]\n",
        "    \n",
        "    # Iterate through the array to find the minimum value and its index\n",
        "    for i in range(1, array.size):\n",
        "        if array[i] < min_value:\n",
        "            min_value = array[i]\n",
        "            min_index = i\n",
        "    \n",
        "    return min_index\n",
        "\n",
        "\n",
        "# MAIN EXECUTION~\n",
        "array = np.array([3, 1, 4, 1, 5, 9, 2, 6, 5])\n",
        "print(\"Array:\", array)\n",
        "\n",
        "custom_index = cust_argmin(array)\n",
        "print(\"Index of minimum element (custom function):\", custom_index)\n",
        "\n",
        "numpy_index = np.argmin(array)\n",
        "print(\"Index of minimum element (np.argmin function):\", numpy_index)\n"
      ]
    },
    {
      "cell_type": "raw",
      "metadata": {},
      "source": [
        "\n",
        "\n",
        "\n"
      ]
    },
    {
      "cell_type": "code",
      "execution_count": 65,
      "metadata": {
        "trusted": true
      },
      "outputs": [
        {
          "name": "stderr",
          "output_type": "stream",
          "text": [
            "[NbConvertApp] Converting notebook ML_PreReqi.ipynb to html\n",
            "[NbConvertApp] WARNING | Alternative text is missing on 1 image(s).\n",
            "[NbConvertApp] Writing 536669 bytes to ML_PreReqi.html\n"
          ]
        }
      ],
      "source": [
        "# %pip install jupyter\n",
        "# %pip install nbconvert\n",
        "!jupyter nbconvert --to html ML_PreReqi.ipynb"
      ]
    }
  ],
  "metadata": {
    "kernelspec": {
      "display_name": "Python 3",
      "language": "python",
      "name": "python3"
    },
    "language_info": {
      "codemirror_mode": {
        "name": "ipython",
        "version": 3
      },
      "file_extension": ".py",
      "mimetype": "text/x-python",
      "name": "python",
      "nbconvert_exporter": "python",
      "pygments_lexer": "ipython3",
      "version": "3.9.6"
    }
  },
  "nbformat": 4,
  "nbformat_minor": 4
}
